{
 "cells": [
  {
   "cell_type": "code",
   "execution_count": null,
   "id": "4e55056b",
   "metadata": {},
   "outputs": [],
   "source": [
    "import pandas as pd\n",
    "import matplotlib.pyplot as plt\n",
    "import os\n",
    "from git_root import git_root\n",
    "import yaml"
   ]
  },
  {
   "cell_type": "code",
   "execution_count": null,
   "id": "00da5d6d",
   "metadata": {},
   "outputs": [],
   "source": [
    "os.chdir(git_root())\n",
    "from monitoring import org, setup, utils"
   ]
  },
  {
   "cell_type": "code",
   "execution_count": null,
   "id": "5059400d",
   "metadata": {},
   "outputs": [],
   "source": [
    "def _data():\n",
    "    FIRST_YEAR = 2022\n",
    "    \n",
    "    with open(\"env-vars.yaml\", \"r\") as stream:\n",
    "        try:\n",
    "            env_vars = yaml.safe_load(stream)\n",
    "            for key, value in env_vars.items():\n",
    "                os.environ[key] = value\n",
    "        except yaml.YAMLError as exc:\n",
    "            print(exc)\n",
    "\n",
    "    weeks_dir = setup.create_and_get_week_dir()\n",
    "    df = org.load_data(week_root=weeks_dir, first_weekday_index=3)\n",
    "    df = org.process_data(df)\n",
    "    return df"
   ]
  },
  {
   "cell_type": "code",
   "execution_count": null,
   "id": "85077551",
   "metadata": {},
   "outputs": [],
   "source": [
    "df = _data()"
   ]
  },
  {
   "cell_type": "code",
   "execution_count": null,
   "id": "dc8019b2",
   "metadata": {},
   "outputs": [],
   "source": [
    "df.index = pd.to_datetime(df.index, unit='D', origin=pd.Timestamp(\"2022\"))"
   ]
  },
  {
   "cell_type": "code",
   "execution_count": null,
   "id": "15aebafb",
   "metadata": {},
   "outputs": [],
   "source": [
    "def plot_rolling_means(s):\n",
    "    fig, ax = plt.subplots(figsize=(15, 6))\n",
    "    for window_size in [7, 14, 28]:\n",
    "        s.rolling(window_size, min_periods=1).mean().plot(ax=ax, label=window_size)\n",
    "    ax.legend()"
   ]
  },
  {
   "cell_type": "code",
   "execution_count": null,
   "id": "58601d12",
   "metadata": {},
   "outputs": [],
   "source": [
    "plot_rolling_means(df[\"Stress\"])"
   ]
  },
  {
   "cell_type": "code",
   "execution_count": null,
   "id": "9208a13f",
   "metadata": {},
   "outputs": [],
   "source": [
    "plot_rolling_means(df[\"Wellbeing\"])"
   ]
  },
  {
   "cell_type": "code",
   "execution_count": null,
   "id": "ff20906a",
   "metadata": {},
   "outputs": [],
   "source": [
    "plot_rolling_means(df[\"Happiness\"])"
   ]
  },
  {
   "cell_type": "code",
   "execution_count": null,
   "id": "f43713c1",
   "metadata": {},
   "outputs": [],
   "source": [
    "plot_rolling_means(df[\"Exercise\"])"
   ]
  },
  {
   "cell_type": "code",
   "execution_count": null,
   "id": "4872dffb",
   "metadata": {},
   "outputs": [],
   "source": [
    "plot_rolling_means(df[\"Fasting\"])"
   ]
  },
  {
   "cell_type": "code",
   "execution_count": null,
   "id": "f9e23be0",
   "metadata": {},
   "outputs": [],
   "source": [
    "plot_rolling_means(df[\"Eating\"])"
   ]
  },
  {
   "cell_type": "code",
   "execution_count": null,
   "id": "9cbe2a1a",
   "metadata": {},
   "outputs": [],
   "source": [
    "plot_rolling_means(df[\"Sleep\"])"
   ]
  }
 ],
 "metadata": {
  "kernelspec": {
   "display_name": "Python 3 (ipykernel)",
   "language": "python",
   "name": "python3"
  },
  "language_info": {
   "codemirror_mode": {
    "name": "ipython",
    "version": 3
   },
   "file_extension": ".py",
   "mimetype": "text/x-python",
   "name": "python",
   "nbconvert_exporter": "python",
   "pygments_lexer": "ipython3",
   "version": "3.10.4"
  }
 },
 "nbformat": 4,
 "nbformat_minor": 5
}
