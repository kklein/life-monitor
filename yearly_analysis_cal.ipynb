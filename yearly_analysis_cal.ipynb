{
 "cells": [
  {
   "cell_type": "code",
   "execution_count": null,
   "id": "92c39160",
   "metadata": {},
   "outputs": [],
   "source": [
    "from git_root import git_root\n",
    "import os\n",
    "from pathlib import Path\n",
    "import numpy as np\n",
    "\n",
    "os.chdir(\"/Users/kevinklein/Code/life-monitor\")\n",
    "\n",
    "from monitoring import cal, setup, utils, yearly\n",
    "\n",
    "_FIRST_YEAR = 2022\n",
    "_LAST_YEAR = 2024\n",
    "\n",
    "import yaml\n",
    "\n",
    "with open(\"env-vars.yaml\", \"r\") as stream:\n",
    "    try:\n",
    "        env_vars = yaml.safe_load(stream)\n",
    "        for key, value in env_vars.items():\n",
    "            os.environ[key] = value\n",
    "    except yaml.YAMLError as exc:\n",
    "        print(exc)"
   ]
  },
  {
   "cell_type": "code",
   "execution_count": null,
   "id": "c2628bdb",
   "metadata": {},
   "outputs": [],
   "source": [
    "def _get_df(sport):\n",
    "    service = setup.get_calendar_service()\n",
    "    start = utils.first_of_jan_timestamp(year=_FIRST_YEAR)\n",
    "    end = utils.last_of_dec_timestamp(year=_LAST_YEAR)\n",
    "    events = cal.get_filtered_events(\n",
    "        service,\n",
    "        start,\n",
    "        end,\n",
    "        \"summary\",\n",
    "        filter_value=sport,\n",
    "    )\n",
    "    y = cal.prune_events(events)\n",
    "\n",
    "    df = cal.get_dataframe(events)\n",
    "    return df"
   ]
  },
  {
   "cell_type": "code",
   "execution_count": null,
   "id": "0d37ec6f-1446-40ff-a63f-d44b825bfe9d",
   "metadata": {},
   "outputs": [],
   "source": [
    "    service = setup.get_calendar_service()\n",
    "    start = utils.first_of_jan_timestamp(year=_FIRST_YEAR)\n",
    "    end = utils.last_of_dec_timestamp(year=_LAST_YEAR)\n",
    "    events = cal.get_filtered_events(\n",
    "        service,\n",
    "        start,\n",
    "        end,\n",
    "        \"color\",\n",
    "        filter_value=\"4\",\n",
    "    )"
   ]
  },
  {
   "cell_type": "code",
   "execution_count": null,
   "id": "0b443880-912d-4a9b-9d97-7418fcf8d9fb",
   "metadata": {},
   "outputs": [],
   "source": [
    "def _get_df_exercise():\n",
    "    service = setup.get_calendar_service()\n",
    "    start = utils.first_of_jan_timestamp(year=_FIRST_YEAR)\n",
    "    end = utils.last_of_dec_timestamp(year=_LAST_YEAR)\n",
    "    events = cal.get_filtered_events(\n",
    "        service,\n",
    "        start,\n",
    "        end,\n",
    "        \"color\",\n",
    "        filter_value=\"4\",\n",
    "    )\n",
    "    y = cal.prune_events(events)\n",
    "    df = cal.get_dataframe(events)\n",
    "    \n",
    "    def is_endurance(title: str) -> bool:\n",
    "        return title in [\"running\", \"cross-country skiing\", \"cycling\", \"tennis\", \"hiking\", \"swimming\", \n",
    "                         \"snowshoe hiking\", \"inline skating\", \"elliptical\", \"padel\", \"elliptical\"]\n",
    "    \n",
    "    def is_strength(title: str) -> bool:\n",
    "        return title in [\"gym\", \"climbing\", \"gym: ub\", \"gym: c\", \"gym: lb\", \"via ferrata\"]\n",
    "\n",
    "    df[\"endurance\"] = df[\"title\"].apply(is_endurance)\n",
    "    df[\"strength\"] = df[\"title\"].apply(is_strength)\n",
    "    return df"
   ]
  },
  {
   "cell_type": "code",
   "execution_count": null,
   "id": "032f7587-3db9-42cf-9a12-dee3f78c2b9c",
   "metadata": {},
   "outputs": [],
   "source": [
    "import matplotlib.pyplot as plt\n",
    "\n",
    "def _relative_frequency_plot(probabilities, fig, ax):\n",
    "    disciplines = list(sorted(probabilities[2023].keys(), key=lambda d: probabilities[2023][d], reverse=True))\n",
    "    n_disciplines = len(disciplines)\n",
    "    for year in [2023, 2022]:\n",
    "        values = [probabilities[year][discipline] for discipline in disciplines]\n",
    "        ax.bar(range(n_disciplines), values, align='center', label=str(year), alpha=.3)\n",
    "    ax.set_xticks(range(n_disciplines), disciplines, rotation=\"vertical\")\n",
    "    ax.legend()\n",
    "    fig.tight_layout()"
   ]
  },
  {
   "cell_type": "code",
   "execution_count": null,
   "id": "938f582f-e0b9-42c1-bbe4-571f6982f466",
   "metadata": {},
   "outputs": [],
   "source": [
    "dfs = {}\n",
    "for sport in [utils.Sport.running, utils.Sport.cycling, utils.Sport.gym, utils.Sport.climbing]:\n",
    "    dfs[sport] = _get_df(sport)"
   ]
  },
  {
   "cell_type": "code",
   "execution_count": null,
   "id": "51606749-73ea-4d79-bb39-656d337972ca",
   "metadata": {},
   "outputs": [],
   "source": [
    "dfs[utils.Sport.running]"
   ]
  },
  {
   "cell_type": "code",
   "execution_count": null,
   "id": "8242c936-30b9-4e67-b1c8-1e813a5e5f10",
   "metadata": {},
   "outputs": [],
   "source": [
    "df_exercise = _get_df_exercise()"
   ]
  },
  {
   "cell_type": "markdown",
   "id": "2f093205-77cd-4c70-9c98-8da4c34ce764",
   "metadata": {},
   "source": [
    "# Individual disciplines"
   ]
  },
  {
   "cell_type": "markdown",
   "id": "6554f048-dd1a-45b7-a290-57a4ab7f82d1",
   "metadata": {},
   "source": [
    "### Climbing"
   ]
  },
  {
   "cell_type": "code",
   "execution_count": null,
   "id": "0ab9be28-c75a-4ffd-b34b-a8833c848fbb",
   "metadata": {},
   "outputs": [],
   "source": [
    "dfs[utils.Sport.climbing].groupby(\"year\")[\"title\"].count()"
   ]
  },
  {
   "cell_type": "markdown",
   "id": "18d7287d-e6b1-4f79-bd27-54730f5a50c9",
   "metadata": {},
   "source": [
    "### Gym"
   ]
  },
  {
   "cell_type": "code",
   "execution_count": null,
   "id": "ebe88ebc",
   "metadata": {},
   "outputs": [],
   "source": [
    "gym = dfs[utils.Sport.gym]"
   ]
  },
  {
   "cell_type": "code",
   "execution_count": null,
   "id": "a2be5ed0-569b-49e0-9f66-9e1f7d3b84a2",
   "metadata": {},
   "outputs": [],
   "source": [
    "gym[gym[\"year\"] == 2023][\"title\"].value_counts()"
   ]
  },
  {
   "cell_type": "code",
   "execution_count": null,
   "id": "260d49e4-0769-4a29-b2d2-347b9d262760",
   "metadata": {},
   "outputs": [],
   "source": [
    "gym.groupby(\"year\")[\"title\"].count()"
   ]
  },
  {
   "cell_type": "markdown",
   "id": "f1fe0be2-8a53-4456-b40e-858cbcf9571f",
   "metadata": {},
   "source": [
    "### Running"
   ]
  },
  {
   "cell_type": "code",
   "execution_count": null,
   "id": "c14138b9",
   "metadata": {},
   "outputs": [],
   "source": [
    "dfs[utils.Sport.running].groupby(\"year\")[\"distance\"].sum()"
   ]
  },
  {
   "cell_type": "code",
   "execution_count": null,
   "id": "9bb328be",
   "metadata": {},
   "outputs": [],
   "source": [
    "dfs[utils.Sport.running].groupby(\"year\")[\"distance\"].count()"
   ]
  },
  {
   "cell_type": "code",
   "execution_count": null,
   "id": "eb934f14-b328-4808-9a3c-0e9891d2382b",
   "metadata": {},
   "outputs": [],
   "source": [
    "dfs[utils.Sport.running].groupby(\"year\")[\"distance\"].median()"
   ]
  },
  {
   "cell_type": "code",
   "execution_count": null,
   "id": "91e0133b-b364-40ec-a964-c927e51d6ac5",
   "metadata": {},
   "outputs": [],
   "source": [
    "df_exercise.groupby(\"year\")[\"title\"].agg(lambda x: x[x == \"running\"].count() / x.count())"
   ]
  },
  {
   "cell_type": "code",
   "execution_count": null,
   "id": "87668062-1ae6-4a16-8816-4f72a3a03ccc",
   "metadata": {},
   "outputs": [],
   "source": [
    "cal.plot_cumulative_day_distances(dfs[utils.Sport.running], utils.Sport.running, Path(git_root()))"
   ]
  },
  {
   "cell_type": "markdown",
   "id": "62a5f72a-b3fd-4388-a4ae-99b78de1ad33",
   "metadata": {},
   "source": [
    "### Cycling"
   ]
  },
  {
   "cell_type": "code",
   "execution_count": null,
   "id": "c571cfe3",
   "metadata": {},
   "outputs": [],
   "source": [
    "dfs[utils.Sport.cycling].groupby(\"year\")[\"distance\"].sum()"
   ]
  },
  {
   "cell_type": "code",
   "execution_count": null,
   "id": "a5e2e7e1-c183-4c00-8c4e-3ada12f8c560",
   "metadata": {},
   "outputs": [],
   "source": [
    "dfs[utils.Sport.cycling].groupby(\"year\")[\"distance\"].count()"
   ]
  },
  {
   "cell_type": "code",
   "execution_count": null,
   "id": "73723447-0500-4691-bb53-fd319a10ffb5",
   "metadata": {},
   "outputs": [],
   "source": [
    "cal.plot_cumulative_day_distances(dfs[utils.Sport.cycling], utils.Sport.cycling, Path(git_root()))"
   ]
  },
  {
   "cell_type": "markdown",
   "id": "049993c4-fb9a-4aaf-b28d-a0f1c8f426d9",
   "metadata": {},
   "source": [
    "# Overall exercise"
   ]
  },
  {
   "cell_type": "code",
   "execution_count": null,
   "id": "dcec733e-5724-406d-bf11-029dffc48d4a",
   "metadata": {},
   "outputs": [],
   "source": [
    "year_counts = df_exercise.groupby(\"year\")[\"title\"].count().to_dict()\n",
    "year_counts"
   ]
  },
  {
   "cell_type": "code",
   "execution_count": null,
   "id": "0bc6f8cd",
   "metadata": {},
   "outputs": [],
   "source": [
    "df_exercise.groupby(\"year\")[\"title\"].nunique()"
   ]
  },
  {
   "cell_type": "code",
   "execution_count": null,
   "id": "c848457e-8c63-4e15-be76-b8f60f19232b",
   "metadata": {},
   "outputs": [],
   "source": [
    "probabilities, entropies = yearly.variety(df_exercise)"
   ]
  },
  {
   "cell_type": "code",
   "execution_count": null,
   "id": "733c780c-f4af-4191-941d-f2fccc29bb57",
   "metadata": {},
   "outputs": [],
   "source": [
    "fig_context, axs_context = plt.subplots(ncols=2, figsize=(10, 5))\n",
    "_relative_frequency_plot(probabilities, fig_context, axs_context[0])\n",
    "axs_context[0].set_title(\"Relative frequencies of various disciplines\")"
   ]
  },
  {
   "cell_type": "markdown",
   "id": "5d276461-6f17-47e7-9353-a6368d91dfab",
   "metadata": {},
   "source": [
    "### Setup for radar plot"
   ]
  },
  {
   "cell_type": "code",
   "execution_count": null,
   "id": "018d95e5-70f2-415f-8839-551a8149f173",
   "metadata": {},
   "outputs": [],
   "source": [
    "endurances = {k: v / 365 for k, v in df_exercise.groupby(\"year\")[\"endurance\"].sum().to_dict().items()}\n",
    "endurances"
   ]
  },
  {
   "cell_type": "code",
   "execution_count": null,
   "id": "808a497d-b002-4e0d-9ce6-d0ba2295144a",
   "metadata": {},
   "outputs": [],
   "source": [
    "strengths = {k: v / 365 for k,v in df_exercise.groupby(\"year\")[\"strength\"].sum().to_dict().items()}\n",
    "strengths"
   ]
  },
  {
   "cell_type": "code",
   "execution_count": null,
   "id": "2ba9332a-0200-4774-b501-fc9b2adb57fb",
   "metadata": {},
   "outputs": [],
   "source": [
    "from math import log\n",
    "max_entropy = log(len(probabilities[2022]), 2)\n",
    "varieties = {k: v/max_entropy for k, v in entropies.items()}\n",
    "varieties"
   ]
  },
  {
   "cell_type": "code",
   "execution_count": null,
   "id": "9337eaa4-21bc-4182-8dc2-ee5035296526",
   "metadata": {},
   "outputs": [],
   "source": [
    "from collections import defaultdict\n",
    "durations_h = df_exercise.index.diff().total_seconds() / 3600\n",
    "df_exercise_aux = df_exercise.copy()\n",
    "df_exercise_aux[\"durations\"] = durations_h\n",
    "consistencies = df_exercise_aux.groupby(\"year\")[\"durations\"].std().to_dict()\n",
    "consistencies = {k: v/96 for k,v in consistencies.items()}\n",
    "consistencies"
   ]
  },
  {
   "cell_type": "code",
   "execution_count": null,
   "id": "b98c226e-a4ea-423b-9b77-57a01844907c",
   "metadata": {},
   "outputs": [],
   "source": [
    "# Inverting the order to make sure color-coding checks out.\n",
    "df_exercise_aux.iloc[::-1].groupby(\"year\", sort=False)[\"durations\"].hist(\n",
    "    ax=axs_context[1], figure=fig_context, legend=True, bins=20, alpha=.3\n",
    ")\n",
    "axs_context[1].set_title(\"Durations [h] between two consecutive exercise activities\")\n",
    "axs_context[1].legend()"
   ]
  },
  {
   "cell_type": "code",
   "execution_count": null,
   "id": "fce8b308-d7a4-44ab-b24c-ec18b8d95f6b",
   "metadata": {},
   "outputs": [],
   "source": [
    "fig_context.savefig(\"context.svg\")\n",
    "fig_context"
   ]
  },
  {
   "cell_type": "code",
   "execution_count": null,
   "id": "b649727e-af74-4d42-a42e-9f4dc5a449a4",
   "metadata": {},
   "outputs": [],
   "source": [
    "labels = {\n",
    "    \"Endurance\": [0, .25, .5, .75, 1],\n",
    "    \"Variety\": [0, round(max_entropy/4, 2), round(max_entropy/2, 2), round(max_entropy*3/4, 2), round(max_entropy,2)],\n",
    "    \"Strength\": [0, .25, .5, .75, 1],\n",
    "    \"Consistency\": [96, 62, 48, 24, 0],\n",
    "}"
   ]
  },
  {
   "cell_type": "code",
   "execution_count": null,
   "id": "c9fee885-21e1-4f42-8d75-0141b42791b7",
   "metadata": {},
   "outputs": [],
   "source": [
    "dimensions = [\"Endurance\",  \"Variety\", \"Strength\", \"Consistency\"]\n",
    "n_dimensions = len(dimensions)\n",
    "radar_years = [2024, 2023, 2022]\n",
    "radar_data = {year: [endurances[year], varieties[year], strengths[year], (1-consistencies[year])] for year in radar_years}"
   ]
  },
  {
   "cell_type": "code",
   "execution_count": null,
   "id": "e0bd5c70-7627-4c7d-a37c-f609c2735745",
   "metadata": {},
   "outputs": [],
   "source": [
    "colors = [\"b\", \"r\", \"g\"]"
   ]
  },
  {
   "cell_type": "markdown",
   "id": "1ebbde31-ba77-46b7-ae81-f0720694399c",
   "metadata": {},
   "source": [
    "### Radar plot"
   ]
  },
  {
   "cell_type": "code",
   "execution_count": null,
   "id": "370bdf48-8594-4345-a663-59a1a8ec2e62",
   "metadata": {},
   "outputs": [],
   "source": [
    "fig = plt.figure()\n",
    "radar = yearly.Radar(fig, dimensions, labels.values())\n",
    "for year, color in zip(radar_years, colors):\n",
    "    radar.plot(radar_data[year], '-', lw=2, color=color, alpha=0.4, label=year)\n",
    "    radar.fill(radar_data[year], lw=2, color=color, alpha=.2)\n",
    "radar.ax.legend()\n",
    "radar.ax.tick_params(pad=40)\n",
    "fig.savefig(\"radar.svg\", bbox_inches='tight')"
   ]
  },
  {
   "cell_type": "code",
   "execution_count": null,
   "id": "63315b82-f38f-46f8-a8e1-820bdc88c137",
   "metadata": {},
   "outputs": [],
   "source": []
  }
 ],
 "metadata": {
  "kernelspec": {
   "display_name": "Python 3 (ipykernel)",
   "language": "python",
   "name": "python3"
  },
  "language_info": {
   "codemirror_mode": {
    "name": "ipython",
    "version": 3
   },
   "file_extension": ".py",
   "mimetype": "text/x-python",
   "name": "python",
   "nbconvert_exporter": "python",
   "pygments_lexer": "ipython3",
   "version": "3.10.13"
  }
 },
 "nbformat": 4,
 "nbformat_minor": 5
}
