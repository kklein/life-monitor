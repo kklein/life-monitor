{
 "cells": [
  {
   "cell_type": "code",
   "execution_count": null,
   "id": "92c39160",
   "metadata": {},
   "outputs": [],
   "source": [
    "from git_root import git_root\n",
    "import os\n",
    "from pathlib import Path\n",
    "\n",
    "os.chdir(\"/Users/kevin/Code/life-monitor\")\n",
    "\n",
    "from monitoring import cal, setup, utils\n",
    "\n",
    "_FIRST_YEAR = 2021\n",
    "\n",
    "import yaml\n",
    "\n",
    "with open(\"env-vars.yaml\", \"r\") as stream:\n",
    "    try:\n",
    "        env_vars = yaml.safe_load(stream)\n",
    "        for key, value in env_vars.items():\n",
    "            os.environ[key] = value\n",
    "    except yaml.YAMLError as exc:\n",
    "        print(exc)"
   ]
  },
  {
   "cell_type": "code",
   "execution_count": null,
   "id": "c2628bdb",
   "metadata": {},
   "outputs": [],
   "source": [
    "def _get_df(sport):\n",
    "    service = setup.get_calendar_service()\n",
    "    start = utils.first_of_jan_timestamp(year=_FIRST_YEAR)\n",
    "    end = utils.now_timestamp()\n",
    "    events = cal.get_filtered_events(\n",
    "        service,\n",
    "        start,\n",
    "        end,\n",
    "        \"summary\",\n",
    "        filter_value=sport,\n",
    "    )\n",
    "    y = cal.prune_events(events)\n",
    "\n",
    "    df = cal.get_dataframe(events)\n",
    "    return df"
   ]
  },
  {
   "cell_type": "code",
   "execution_count": null,
   "id": "2c3f4a7d",
   "metadata": {},
   "outputs": [],
   "source": [
    "dfs = {}\n",
    "for sport in [utils.Sport.running, utils.Sport.cycling, utils.Sport.gym]:\n",
    "    dfs[sport] = _get_df(sport)"
   ]
  },
  {
   "cell_type": "code",
   "execution_count": null,
   "id": "782ed743",
   "metadata": {},
   "outputs": [],
   "source": [
    "gym = dfs[utils.Sport.gym]"
   ]
  },
  {
   "cell_type": "code",
   "execution_count": null,
   "id": "ebe88ebc",
   "metadata": {},
   "outputs": [],
   "source": [
    "gym[gym[\"year\"] == 2023][\"title\"].value_counts()"
   ]
  },
  {
   "cell_type": "code",
   "execution_count": null,
   "id": "c14138b9",
   "metadata": {},
   "outputs": [],
   "source": [
    "gym[gym[\"year\"] == 2022].tail()"
   ]
  },
  {
   "cell_type": "code",
   "execution_count": null,
   "id": "9bb328be",
   "metadata": {},
   "outputs": [],
   "source": [
    "dfs[utils.Sport.running].groupby(\"year\").count()"
   ]
  },
  {
   "cell_type": "code",
   "execution_count": null,
   "id": "c571cfe3",
   "metadata": {},
   "outputs": [],
   "source": [
    "dfs[utils.Sport.cycling].groupby(\"year\")[\"distance\"].sum()"
   ]
  },
  {
   "cell_type": "code",
   "execution_count": null,
   "id": "a409a7ca",
   "metadata": {},
   "outputs": [],
   "source": [
    "service = setup.get_calendar_service()\n",
    "start = utils.first_of_jan_timestamp(year=_FIRST_YEAR)\n",
    "end = utils.now_timestamp()\n",
    "events = cal.get_filtered_events(\n",
    "    service,\n",
    "    start,\n",
    "    end,\n",
    "    \"color\",\n",
    "    filter_value=\"4\",\n",
    ")\n",
    "y = cal.prune_events(events)\n",
    "df = cal.get_dataframe(events)"
   ]
  },
  {
   "cell_type": "code",
   "execution_count": null,
   "id": "68bbe865",
   "metadata": {},
   "outputs": [],
   "source": [
    "df.groupby(\"year\")[\"title\"].agg(lambda x: x[x == \"running\"].count() / x.count())"
   ]
  },
  {
   "cell_type": "code",
   "execution_count": null,
   "id": "0bc6f8cd",
   "metadata": {},
   "outputs": [],
   "source": [
    "df.groupby(\"year\")[\"title\"].unique()"
   ]
  },
  {
   "cell_type": "code",
   "execution_count": null,
   "id": "037a9227",
   "metadata": {},
   "outputs": [],
   "source": [
    "df[\"title\"].unique()"
   ]
  },
  {
   "cell_type": "code",
   "execution_count": null,
   "id": "77f05c87",
   "metadata": {},
   "outputs": [],
   "source": [
    "df.grou"
   ]
  },
  {
   "cell_type": "code",
   "execution_count": null,
   "id": "d0b4899d",
   "metadata": {},
   "outputs": [],
   "source": [
    "df.head()"
   ]
  },
  {
   "cell_type": "code",
   "execution_count": null,
   "id": "1803acca",
   "metadata": {},
   "outputs": [],
   "source": [
    "from importlib import reload\n",
    "reload(cal)"
   ]
  },
  {
   "cell_type": "code",
   "execution_count": null,
   "id": "3a3820c3",
   "metadata": {},
   "outputs": [],
   "source": [
    "for sport in [utils.Sport.running, utils.Sport.cycling, utils.Sport.swimming]:\n",
    "    events = cal.get_filtered_events(\n",
    "        service,\n",
    "        start,\n",
    "        end,\n",
    "        \"summary\",\n",
    "        filter_value=sport,\n",
    "    )\n",
    "    y = cal.prune_events(events)\n",
    "    df = cal.get_dataframe(events)\n",
    "    cal.plot_cumulative_day_distances(df, sport, Path(git_root()))"
   ]
  },
  {
   "cell_type": "code",
   "execution_count": null,
   "id": "b7e7fc59",
   "metadata": {},
   "outputs": [],
   "source": [
    "events = cal.get_filtered_events(\n",
    "    service,\n",
    "    start,\n",
    "    end,\n",
    "    \"summary\",\n",
    "    filter_value=utils.Sport.running,\n",
    ")\n",
    "y = cal.prune_events(events)\n",
    "df = cal.get_dataframe(events)"
   ]
  },
  {
   "cell_type": "code",
   "execution_count": null,
   "id": "b8064cb7",
   "metadata": {},
   "outputs": [],
   "source": [
    "df.groupby(\"year\")[\"distance\"].median()"
   ]
  },
  {
   "cell_type": "code",
   "execution_count": null,
   "id": "e5719521",
   "metadata": {},
   "outputs": [],
   "source": [
    "events = cal.get_filtered_events(\n",
    "    service,\n",
    "    start,\n",
    "    end,\n",
    "    \"summary\",\n",
    "    filter_value=utils.Sport.gym,\n",
    ")\n",
    "y = cal.prune_events(events)\n",
    "df_gym = cal.get_dataframe(events)"
   ]
  },
  {
   "cell_type": "code",
   "execution_count": null,
   "id": "439badc0",
   "metadata": {},
   "outputs": [],
   "source": [
    "df_gym[df_gym[\"year\"] == 2022]"
   ]
  },
  {
   "cell_type": "code",
   "execution_count": null,
   "id": "a60b939c",
   "metadata": {},
   "outputs": [],
   "source": [
    "df_gym.groupby(\"year\").count()"
   ]
  },
  {
   "cell_type": "code",
   "execution_count": null,
   "id": "96391813",
   "metadata": {},
   "outputs": [],
   "source": []
  }
 ],
 "metadata": {
  "kernelspec": {
   "display_name": "Python 3 (ipykernel)",
   "language": "python",
   "name": "python3"
  },
  "language_info": {
   "codemirror_mode": {
    "name": "ipython",
    "version": 3
   },
   "file_extension": ".py",
   "mimetype": "text/x-python",
   "name": "python",
   "nbconvert_exporter": "python",
   "pygments_lexer": "ipython3",
   "version": "3.10.4"
  }
 },
 "nbformat": 4,
 "nbformat_minor": 5
}
